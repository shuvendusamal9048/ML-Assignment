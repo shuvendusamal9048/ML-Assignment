{
 "cells": [
  {
   "cell_type": "code",
   "execution_count": 1,
   "id": "842b313a-c5a7-480d-9706-f89869e1d1f8",
   "metadata": {},
   "outputs": [],
   "source": [
    "import pandas as pd\n",
    "import numpy as np"
   ]
  },
  {
   "cell_type": "code",
   "execution_count": 72,
   "id": "091408bb-91d7-456f-a458-c4f466c0dfec",
   "metadata": {},
   "outputs": [],
   "source": [
    "fainal_df=pd.read_csv('Model_data.csv')"
   ]
  },
  {
   "cell_type": "code",
   "execution_count": 111,
   "id": "2bed901a-a0bd-416a-bbc0-3faa09f5ebf5",
   "metadata": {},
   "outputs": [
    {
     "data": {
      "text/html": [
       "<div>\n",
       "<style scoped>\n",
       "    .dataframe tbody tr th:only-of-type {\n",
       "        vertical-align: middle;\n",
       "    }\n",
       "\n",
       "    .dataframe tbody tr th {\n",
       "        vertical-align: top;\n",
       "    }\n",
       "\n",
       "    .dataframe thead th {\n",
       "        text-align: right;\n",
       "    }\n",
       "</style>\n",
       "<table border=\"1\" class=\"dataframe\">\n",
       "  <thead>\n",
       "    <tr style=\"text-align: right;\">\n",
       "      <th></th>\n",
       "      <th>Coin</th>\n",
       "      <th>Execution Price</th>\n",
       "      <th>Size USD</th>\n",
       "      <th>Side</th>\n",
       "      <th>Start Position</th>\n",
       "      <th>Fee</th>\n",
       "      <th>classification</th>\n",
       "      <th>Profit</th>\n",
       "    </tr>\n",
       "  </thead>\n",
       "  <tbody>\n",
       "    <tr>\n",
       "      <th>57727</th>\n",
       "      <td>@107</td>\n",
       "      <td>16.821000</td>\n",
       "      <td>141.13</td>\n",
       "      <td>SELL</td>\n",
       "      <td>4.654007e+03</td>\n",
       "      <td>0.049394</td>\n",
       "      <td>Fear</td>\n",
       "      <td>1</td>\n",
       "    </tr>\n",
       "    <tr>\n",
       "      <th>66264</th>\n",
       "      <td>HYPE</td>\n",
       "      <td>21.072000</td>\n",
       "      <td>210.72</td>\n",
       "      <td>BUY</td>\n",
       "      <td>3.260070e+04</td>\n",
       "      <td>0.020229</td>\n",
       "      <td>Neutral</td>\n",
       "      <td>0</td>\n",
       "    </tr>\n",
       "    <tr>\n",
       "      <th>146069</th>\n",
       "      <td>ETH</td>\n",
       "      <td>1456.000000</td>\n",
       "      <td>1004.64</td>\n",
       "      <td>BUY</td>\n",
       "      <td>-4.034000e+01</td>\n",
       "      <td>0.100464</td>\n",
       "      <td>Extreme Fear</td>\n",
       "      <td>1</td>\n",
       "    </tr>\n",
       "    <tr>\n",
       "      <th>71578</th>\n",
       "      <td>HYPE</td>\n",
       "      <td>17.553000</td>\n",
       "      <td>2047.03</td>\n",
       "      <td>SELL</td>\n",
       "      <td>1.568639e+04</td>\n",
       "      <td>0.511757</td>\n",
       "      <td>Extreme Fear</td>\n",
       "      <td>1</td>\n",
       "    </tr>\n",
       "    <tr>\n",
       "      <th>114374</th>\n",
       "      <td>kPEPE</td>\n",
       "      <td>0.008953</td>\n",
       "      <td>526.24</td>\n",
       "      <td>BUY</td>\n",
       "      <td>-6.094307e+06</td>\n",
       "      <td>0.184183</td>\n",
       "      <td>Greed</td>\n",
       "      <td>0</td>\n",
       "    </tr>\n",
       "  </tbody>\n",
       "</table>\n",
       "</div>"
      ],
      "text/plain": [
       "         Coin  Execution Price  Size USD  Side  Start Position       Fee  \\\n",
       "57727    @107        16.821000    141.13  SELL    4.654007e+03  0.049394   \n",
       "66264    HYPE        21.072000    210.72   BUY    3.260070e+04  0.020229   \n",
       "146069    ETH      1456.000000   1004.64   BUY   -4.034000e+01  0.100464   \n",
       "71578    HYPE        17.553000   2047.03  SELL    1.568639e+04  0.511757   \n",
       "114374  kPEPE         0.008953    526.24   BUY   -6.094307e+06  0.184183   \n",
       "\n",
       "       classification  Profit  \n",
       "57727            Fear       1  \n",
       "66264         Neutral       0  \n",
       "146069   Extreme Fear       1  \n",
       "71578    Extreme Fear       1  \n",
       "114374          Greed       0  "
      ]
     },
     "execution_count": 111,
     "metadata": {},
     "output_type": "execute_result"
    }
   ],
   "source": [
    "fainal_df.sample(5)"
   ]
  },
  {
   "cell_type": "code",
   "execution_count": 83,
   "id": "8f8dca53-55e6-4a64-8f09-b33e19648f89",
   "metadata": {},
   "outputs": [],
   "source": [
    "from sklearn.pipeline import Pipeline\n",
    "from sklearn.ensemble import RandomForestClassifier\n",
    "from sklearn.preprocessing import OneHotEncoder\n",
    "from sklearn.compose import ColumnTransformer\n",
    "from sklearn.model_selection import train_test_split\n"
   ]
  },
  {
   "cell_type": "code",
   "execution_count": 85,
   "id": "41ada925-d063-4bf5-a910-468a1bac3166",
   "metadata": {},
   "outputs": [],
   "source": [
    "cat_cols = [\"Coin\", \"Side\", \"classification\"]\n",
    "num_cols = [col for col in fainal_df.columns if col not in cat_cols + [\"Profit\"]]\n"
   ]
  },
  {
   "cell_type": "code",
   "execution_count": 89,
   "id": "697b6ccc-f248-4866-90a2-654101cafc2f",
   "metadata": {},
   "outputs": [],
   "source": [
    "X = fainal_df.drop(\"Profit\", axis=1)\n",
    "y = fainal_df[\"Profit\"]\n",
    "\n",
    "X_train, X_test, y_train, y_test = train_test_split(\n",
    "    X, y, test_size=0.2, random_state=42, stratify=y\n",
    ")\n"
   ]
  },
  {
   "cell_type": "code",
   "execution_count": 91,
   "id": "2c6a4b18-125c-4088-80f7-beb4877b88ab",
   "metadata": {},
   "outputs": [],
   "source": [
    "preprocessor = ColumnTransformer(\n",
    "    transformers=[\n",
    "        (\"cat\", OneHotEncoder(handle_unknown=\"ignore\"), cat_cols),\n",
    "        (\"num\", \"passthrough\", num_cols)\n",
    "    ]\n",
    ")\n"
   ]
  },
  {
   "cell_type": "code",
   "execution_count": 93,
   "id": "047eca8e-3447-4e0e-afc1-8e344272fad7",
   "metadata": {},
   "outputs": [],
   "source": [
    "pipeline = Pipeline(steps=[\n",
    "    (\"preprocessor\", preprocessor),\n",
    "    (\"model\", RandomForestClassifier(random_state=42))\n",
    "])\n"
   ]
  },
  {
   "cell_type": "code",
   "execution_count": 99,
   "id": "71beda8d-9462-4789-bc3d-f07479e29941",
   "metadata": {},
   "outputs": [],
   "source": [
    "y_pred=pipeline.fit(X_train, y_train)\n"
   ]
  },
  {
   "cell_type": "code",
   "execution_count": 103,
   "id": "8ff6b6c1-994d-4bb3-97bb-c6d8407e322e",
   "metadata": {},
   "outputs": [
    {
     "data": {
      "text/plain": [
       "0.9814884954076318"
      ]
     },
     "execution_count": 103,
     "metadata": {},
     "output_type": "execute_result"
    }
   ],
   "source": [
    "pipeline.score(X_test,y_test)"
   ]
  },
  {
   "cell_type": "code",
   "execution_count": 119,
   "id": "2d9f0bd1-f3c4-4ca8-bd98-e84eff5d466e",
   "metadata": {},
   "outputs": [
    {
     "name": "stdout",
     "output_type": "stream",
     "text": [
      "Profit\n"
     ]
    }
   ],
   "source": [
    "import pandas as pd\n",
    "\n",
    "new = pd.DataFrame([{\n",
    "    \"Execution Price\": 16.821000,\n",
    "    \"Size USD\": 141.13,\n",
    "    \"Start Position\": 4.654007e+03,\n",
    "    \"Fee\": 0.049394,\n",
    "    \"Coin\": \"@107\",\n",
    "    \"Side\": \"SELL\",\n",
    "    \"classification\": \"Fear\"\n",
    "}])\n",
    "\n",
    "\n",
    "prediction = pipeline.predict(new)\n",
    "\n",
    "if prediction[0] ==1:\n",
    "    print(\"Profit\")\n",
    "else:\n",
    "    print(\"Loss\")\n",
    "    \n"
   ]
  },
  {
   "cell_type": "code",
   "execution_count": null,
   "id": "804c4dcf-a57a-40e9-ba02-c6c33a1f0548",
   "metadata": {},
   "outputs": [],
   "source": []
  },
  {
   "cell_type": "code",
   "execution_count": null,
   "id": "15c9a30d-65e1-4e7c-8529-23ef25c81605",
   "metadata": {},
   "outputs": [],
   "source": []
  }
 ],
 "metadata": {
  "kernelspec": {
   "display_name": "Python [conda env:base] *",
   "language": "python",
   "name": "conda-base-py"
  },
  "language_info": {
   "codemirror_mode": {
    "name": "ipython",
    "version": 3
   },
   "file_extension": ".py",
   "mimetype": "text/x-python",
   "name": "python",
   "nbconvert_exporter": "python",
   "pygments_lexer": "ipython3",
   "version": "3.12.7"
  }
 },
 "nbformat": 4,
 "nbformat_minor": 5
}
